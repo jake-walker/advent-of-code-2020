{
 "cells": [
  {
   "cell_type": "markdown",
   "metadata": {},
   "source": [
    "# Day 6: Custom Customs\n",
    "\n",
    "[Brief](https://adventofcode.com/2020/day/6)"
   ]
  },
  {
   "cell_type": "code",
   "execution_count": 12,
   "metadata": {},
   "outputs": [],
   "source": [
    "def get_unique_answers(answers):\n",
    "    return len(set(answers))"
   ]
  },
  {
   "cell_type": "markdown",
   "metadata": {},
   "source": [
    "## Example"
   ]
  },
  {
   "cell_type": "code",
   "execution_count": 14,
   "metadata": {},
   "outputs": [],
   "source": [
    "import re\n",
    "\n",
    "with open(\"example.txt\", \"r\") as file:\n",
    "    # each group is separated by two new lines. each person is split by a new line, they can be ignored\n",
    "    groups = [re.sub(\"\\n\", \"\", g) for g in file.read().split(\"\\n\\n\")]\n",
    "\n",
    "total = 0\n",
    "for group in groups:\n",
    "    total += get_unique_answers(group)\n",
    "\n",
    "assert total == 11"
   ]
  },
  {
   "cell_type": "markdown",
   "metadata": {},
   "source": [
    "## Part 1"
   ]
  },
  {
   "cell_type": "code",
   "execution_count": 15,
   "metadata": {},
   "outputs": [
    {
     "name": "stdout",
     "output_type": "stream",
     "text": [
      "There are 6382 unique answers!\n"
     ]
    }
   ],
   "source": [
    "with open(\"input.txt\", \"r\") as file:\n",
    "    groups = [re.sub(\"\\n\", \"\", g) for g in file.read().split(\"\\n\\n\")]\n",
    "\n",
    "total = 0\n",
    "for group in groups:\n",
    "    total += get_unique_answers(group)\n",
    "\n",
    "print(\"There are {} unique answers!\".format(total))"
   ]
  },
  {
   "cell_type": "markdown",
   "metadata": {},
   "source": [
    "## Part 2"
   ]
  },
  {
   "cell_type": "code",
   "execution_count": 23,
   "metadata": {},
   "outputs": [],
   "source": [
    "def get_common_answers(group):\n",
    "    common_answers = set(group[0])\n",
    "    for person in group[1:]:\n",
    "        common_answers = common_answers.intersection(person)\n",
    "    return common_answers"
   ]
  },
  {
   "cell_type": "code",
   "execution_count": 30,
   "metadata": {},
   "outputs": [],
   "source": [
    "assert get_common_answers([\"abc\"]) == {\"a\", \"b\", \"c\"}\n",
    "assert get_common_answers([\"ab\", \"ac\"]) == {\"a\"}\n",
    "assert get_common_answers([\"a\", \"a\", \"a\", \"a\"]) == {\"a\"}\n",
    "assert get_common_answers([\"b\"]) == {\"b\"}\n",
    "assert get_common_answers([\"a\", \"b\", \"c\"]) == set()"
   ]
  },
  {
   "cell_type": "code",
   "execution_count": 32,
   "metadata": {},
   "outputs": [],
   "source": [
    "with open(\"example.txt\", \"r\") as file:\n",
    "    # each group is separated by two new lines. each person is split by a new line, for part 2 they are important!\n",
    "    groups = [g.splitlines() for g in file.read().split(\"\\n\\n\")]\n",
    "\n",
    "total = 0\n",
    "for group in groups:\n",
    "    total += len(get_common_answers(group))\n",
    "\n",
    "assert total == 6"
   ]
  },
  {
   "cell_type": "code",
   "execution_count": 33,
   "metadata": {},
   "outputs": [
    {
     "name": "stdout",
     "output_type": "stream",
     "text": [
      "There are 3197 common answers!\n"
     ]
    }
   ],
   "source": [
    "with open(\"input.txt\", \"r\") as file:\n",
    "    groups = [g.splitlines() for g in file.read().split(\"\\n\\n\")]\n",
    "\n",
    "total = 0\n",
    "for group in groups:\n",
    "    total += len(get_common_answers(group))\n",
    "\n",
    "print(\"There are {} common answers!\".format(total))"
   ]
  }
 ],
 "metadata": {
  "kernelspec": {
   "display_name": "Python 3",
   "language": "python",
   "name": "python3"
  },
  "language_info": {
   "codemirror_mode": {
    "name": "ipython",
    "version": 3
   },
   "file_extension": ".py",
   "mimetype": "text/x-python",
   "name": "python",
   "nbconvert_exporter": "python",
   "pygments_lexer": "ipython3",
   "version": "3.8.5"
  }
 },
 "nbformat": 4,
 "nbformat_minor": 4
}
