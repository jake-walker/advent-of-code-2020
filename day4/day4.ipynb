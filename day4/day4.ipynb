{
 "cells": [
  {
   "cell_type": "markdown",
   "metadata": {},
   "source": [
    "# Day 4: Passport Processing\n",
    "\n",
    "[Brief](https://adventofcode.com/2020/day/4)"
   ]
  },
  {
   "cell_type": "code",
   "execution_count": 14,
   "metadata": {},
   "outputs": [],
   "source": [
    "import re\n",
    "\n",
    "def parse_passports(contents):\n",
    "    # split where there is an empty line\n",
    "    passports = contents.split(\"\\n\\n\")\n",
    "    # remove replace newlines from the middle of passports\n",
    "    return [p.replace(\"\\n\", \" \") for p in passports]"
   ]
  },
  {
   "cell_type": "code",
   "execution_count": 58,
   "metadata": {},
   "outputs": [],
   "source": [
    "def valid_passport(passport, required_fields=[\"byr\", \"iyr\", \"eyr\", \"hgt\", \"hcl\", \"ecl\", \"pid\"]): \n",
    "    # list of fields that are required that haven't been found yet\n",
    "    fields_left = required_fields.copy()\n",
    "    fields = passport.split(\" \")\n",
    "    \n",
    "    for field in fields:\n",
    "        # split at colon and get first item to get the name of the field\n",
    "        field_name = field.split(\":\")[0]\n",
    "        # remove the field from the required fields list as we have found it\n",
    "        if field_name in fields_left:\n",
    "            fields_left.remove(field_name)\n",
    "    \n",
    "    # if there are more than 0 fields left, it is not valid\n",
    "    return len(fields_left) <= 0"
   ]
  },
  {
   "cell_type": "code",
   "execution_count": 91,
   "metadata": {},
   "outputs": [],
   "source": [
    "def count_valid(passports, func=valid_passport):\n",
    "    valid = 0\n",
    "    for passport in passports:\n",
    "        if func(passport):\n",
    "            valid += 1\n",
    "    return valid"
   ]
  },
  {
   "cell_type": "markdown",
   "metadata": {},
   "source": [
    "## Example\n",
    "\n",
    "Making sure that the function works with the example file."
   ]
  },
  {
   "cell_type": "code",
   "execution_count": 92,
   "metadata": {},
   "outputs": [
    {
     "name": "stdout",
     "output_type": "stream",
     "text": [
      "There are 2 valid passports\n"
     ]
    }
   ],
   "source": [
    "with open(\"example.txt\", \"r\") as file:\n",
    "    lines = file.read()\n",
    "\n",
    "valid = count_valid(parse_passports(lines))\n",
    "print(\"There are {} valid passports\".format(valid))\n",
    "assert valid == 2"
   ]
  },
  {
   "cell_type": "markdown",
   "metadata": {},
   "source": [
    "## Part 1"
   ]
  },
  {
   "cell_type": "code",
   "execution_count": 93,
   "metadata": {},
   "outputs": [
    {
     "name": "stdout",
     "output_type": "stream",
     "text": [
      "There are 239 valid passports\n"
     ]
    }
   ],
   "source": [
    "with open(\"input.txt\", \"r\") as file:\n",
    "    lines = file.read()\n",
    "\n",
    "valid = count_valid(parse_passports(lines))\n",
    "print(\"There are {} valid passports\".format(valid))"
   ]
  },
  {
   "cell_type": "markdown",
   "metadata": {},
   "source": [
    "## Part 2\n",
    "\n",
    "The second part requires the validation function to be slightly rewritten. I could have changed the function above but I think it's nice to see how it has been edited to work with the second half of the challenge."
   ]
  },
  {
   "cell_type": "markdown",
   "metadata": {},
   "source": [
    "### Field validation\n",
    "\n",
    "- `byr` must be between `1920` and `2002`\n",
    "- `iyr` must be between `2010` and `2020`\n",
    "- `eyr` must be between `2020` and `2030`\n",
    "- `hgt` must be a number followed by `cm` or `in`\n",
    "    - if `cm`, the number must be between `150` and `193`\n",
    "    - if `in`, the number must be between `59` and `76`\n",
    "- `hcl` must be a hex color with `#` in front\n",
    "- `ecl` must be `amb`, `blu`, `brn`, `gry`, `grn`, `hzl` or `oth`\n",
    "- `pid` must be a 9 digit number\n",
    "- `cid` can be ignored"
   ]
  },
  {
   "cell_type": "code",
   "execution_count": 123,
   "metadata": {},
   "outputs": [],
   "source": [
    "def validate_field(field_name, field_value):\n",
    "    if field_name == \"byr\":\n",
    "        return int(field_value) >= 1920 and int(field_value) <= 2002\n",
    "    if field_name == \"iyr\":\n",
    "        return int(field_value) >= 2010 and int(field_value) <= 2020\n",
    "    if field_name == \"eyr\":\n",
    "        return int(field_value) >= 2020 and int(field_value) <= 2030\n",
    "    if field_name == \"hgt\":\n",
    "        match = re.match(r\"^([0-9]{2,3})(cm|in)$\", field_value, re.I)\n",
    "        if not match:\n",
    "            return False\n",
    "        parts = match.groups()\n",
    "        if parts[1] == \"cm\":\n",
    "            return int(parts[0]) >= 150 and int(parts[0]) <= 193\n",
    "        if parts[1] == \"in\":\n",
    "            return int(parts[0]) >= 59 and int(parts[0]) <= 76\n",
    "    if field_name == \"hcl\":\n",
    "        return re.match(r\"^#[0-9a-f]{6}$\", field_value)\n",
    "    if field_name == \"ecl\":\n",
    "        return field_value in [\"amb\", \"blu\", \"brn\", \"gry\", \"grn\", \"hzl\", \"oth\"]\n",
    "    if field_name == \"pid\":\n",
    "        return re.match(r\"^\\d{9}$\", field_value)\n",
    "    \n",
    "    # print(\"Defaulting to valid field for field {} with value {}!\".format(field_name, field_value))\n",
    "    return True"
   ]
  },
  {
   "cell_type": "code",
   "execution_count": 124,
   "metadata": {},
   "outputs": [],
   "source": [
    "# check the example fields with the new validation function\n",
    "assert validate_field(\"byr\", \"2002\")\n",
    "assert not validate_field(\"byr\", \"2003\")\n",
    "\n",
    "assert validate_field(\"hgt\", \"60in\")\n",
    "assert validate_field(\"hgt\", \"190cm\")\n",
    "assert not validate_field(\"hgt\", \"190in\")\n",
    "assert not validate_field(\"hgt\", \"190\")\n",
    "\n",
    "assert validate_field(\"hcl\", \"#123abc\")\n",
    "assert not validate_field(\"hcl\", \"#123abz\")\n",
    "assert not validate_field(\"hcl\", \"123abc\")\n",
    "\n",
    "assert validate_field(\"ecl\", \"brn\")\n",
    "assert not validate_field(\"ecl\", \"wat\")\n",
    "\n",
    "assert validate_field(\"pid\", \"000000001\")\n",
    "assert not validate_field(\"pid\", \"0123456789\")"
   ]
  },
  {
   "cell_type": "markdown",
   "metadata": {},
   "source": [
    "### Passport Validation\n",
    "\n",
    "A rewrite of the passport validation function to check for required fields **and** make sure that all of the values are valid for the fields."
   ]
  },
  {
   "cell_type": "code",
   "execution_count": 125,
   "metadata": {},
   "outputs": [],
   "source": [
    "def valid_passport_2(passport):\n",
    "    # list of fields that are required that haven't been found yet\n",
    "    fields_left = [\"byr\", \"iyr\", \"eyr\", \"hgt\", \"hcl\", \"ecl\", \"pid\"]\n",
    "    fields = passport.split(\" \")\n",
    "    \n",
    "    for field in fields:\n",
    "        # split at colon and get first item to get the name of the field\n",
    "        field_name = field.split(\":\")[0]\n",
    "        field_value = \":\".join(field.split(\":\")[1:])\n",
    "        # remove the field from the required fields list as we have found it\n",
    "        if field_name in fields_left:\n",
    "            fields_left.remove(field_name)\n",
    "        \n",
    "        if not validate_field(field_name, field_value):\n",
    "            # print(\"Field {} is not valid with value {}\".format(field_name, field_value))\n",
    "            return False\n",
    "    \n",
    "    # if there are more than 0 fields left, it is not valid\n",
    "    return len(fields_left) <= 0"
   ]
  },
  {
   "cell_type": "code",
   "execution_count": 126,
   "metadata": {},
   "outputs": [],
   "source": [
    "# invalid passports\n",
    "invalid_passports = [\n",
    "    \"eyr:1972 cid:100 hcl:#18171d ecl:amb hgt:170 pid:186cm iyr:2018 byr:1926\",\n",
    "    \"iyr:2019 hcl:#602927 eyr:1967 hgt:170cm ecl:grn pid:012533040 byr:1946\",\n",
    "    \"hcl:dab227 iyr:2012 ecl:brn hgt:182cm pid:021572410 eyr:2020 byr:1992 cid:277\",\n",
    "    \"hgt:59cm ecl:zzz eyr:2038 hcl:74454a iyr:2023 pid:3556412378 byr:2007\"\n",
    "]\n",
    "\n",
    "for p in invalid_passports:\n",
    "    # print(\"Checking passport\", p)\n",
    "    assert valid_passport_2(p) == False\n",
    "\n",
    "# print(\"=================================\")\n",
    "    \n",
    "# valid passports\n",
    "valid_passports = [\n",
    "    \"pid:087499704 hgt:74in ecl:grn iyr:2012 eyr:2030 byr:1980 hcl:#623a2f\",\n",
    "    \"eyr:2029 ecl:blu cid:129 byr:1989 iyr:2014 pid:896056539 hcl:#a97842 hgt:165cm\",\n",
    "    \"hcl:#888785 hgt:164cm byr:2001 iyr:2015 cid:88 pid:545766238 ecl:hzl eyr:2022\",\n",
    "    \"iyr:2010 hgt:158cm hcl:#b6652a ecl:blu byr:1944 eyr:2021 pid:093154719\"\n",
    "]\n",
    "\n",
    "for p in valid_passports:\n",
    "    # print(\"Checking passport\", p)\n",
    "    assert valid_passport_2(p) == True"
   ]
  },
  {
   "cell_type": "markdown",
   "metadata": {},
   "source": [
    "### Get the answer!"
   ]
  },
  {
   "cell_type": "code",
   "execution_count": 127,
   "metadata": {},
   "outputs": [
    {
     "name": "stdout",
     "output_type": "stream",
     "text": [
      "There are 188 valid passports\n"
     ]
    }
   ],
   "source": [
    "with open(\"input.txt\", \"r\") as file:\n",
    "    lines = file.read()\n",
    "\n",
    "valid = count_valid(parse_passports(lines), func=valid_passport_2)\n",
    "print(\"There are {} valid passports\".format(valid))"
   ]
  }
 ],
 "metadata": {
  "kernelspec": {
   "display_name": "Python 3",
   "language": "python",
   "name": "python3"
  },
  "language_info": {
   "codemirror_mode": {
    "name": "ipython",
    "version": 3
   },
   "file_extension": ".py",
   "mimetype": "text/x-python",
   "name": "python",
   "nbconvert_exporter": "python",
   "pygments_lexer": "ipython3",
   "version": "3.8.2"
  }
 },
 "nbformat": 4,
 "nbformat_minor": 4
}
