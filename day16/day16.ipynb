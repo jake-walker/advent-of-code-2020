{
 "cells": [
  {
   "cell_type": "markdown",
   "metadata": {},
   "source": [
    "# Day 16: Ticket Translation\n",
    "\n",
    "[Brief](https://adventofcode.com/2020/day/16)"
   ]
  },
  {
   "cell_type": "code",
   "execution_count": 1,
   "metadata": {},
   "outputs": [],
   "source": [
    "def parse_notes(notes):\n",
    "    sections = notes.split(\"\\n\\n\")\n",
    "    fields = {}\n",
    "    my_ticket = tuple()\n",
    "    nearby_tickets = []\n",
    "    \n",
    "    for field in sections[0].split(\"\\n\"):\n",
    "        f_name = field.split(\": \")[0]\n",
    "        f_ranges = [tuple([int(x) for x in r.split(\"-\")]) for r in field.split(\": \")[1].split(\" or \")]\n",
    "        fields[f_name] = f_ranges\n",
    "    \n",
    "    my_ticket = tuple([int(x) for x in sections[1].split(\"\\n\")[1].split(\",\")])\n",
    "    nearby_tickets = [tuple([int(x) for x in ticket.split(\",\")]) for ticket in sections[2].split(\"\\n\")[1:]]\n",
    "    \n",
    "    return (fields, my_ticket, nearby_tickets)"
   ]
  },
  {
   "cell_type": "code",
   "execution_count": 14,
   "metadata": {},
   "outputs": [],
   "source": [
    "def check_field(value, ranges):\n",
    "    for r in ranges:\n",
    "        if value >= r[0] and value <= r[1]:\n",
    "            return True\n",
    "    \n",
    "    return False"
   ]
  },
  {
   "cell_type": "code",
   "execution_count": 13,
   "metadata": {},
   "outputs": [],
   "source": [
    "def check_ticket(ticket, fields):\n",
    "    invalid = []\n",
    "    \n",
    "    for value in ticket:\n",
    "        # print(\"Testing {}...\".format(value))\n",
    "        is_valid_value = False\n",
    "        for field in fields.keys():\n",
    "            if check_field(value, fields[field]):\n",
    "                # print(\" - Valid   {}\".format(field))\n",
    "                is_valid_value = True\n",
    "                continue\n",
    "            # else:\n",
    "                # print(\" - Invalid {}\".format(field))\n",
    "        \n",
    "        if not is_valid_value:\n",
    "            invalid.append(value)\n",
    "    \n",
    "    return invalid"
   ]
  },
  {
   "cell_type": "code",
   "execution_count": 26,
   "metadata": {},
   "outputs": [],
   "source": [
    "def scanning_error_rate(tickets, fields):\n",
    "    invalid = []\n",
    "    for ticket in tickets:\n",
    "        invalid += check_ticket(ticket, fields)\n",
    "    return sum(invalid)"
   ]
  },
  {
   "cell_type": "markdown",
   "metadata": {},
   "source": [
    "## Example"
   ]
  },
  {
   "cell_type": "code",
   "execution_count": 15,
   "metadata": {},
   "outputs": [],
   "source": [
    "with open(\"example.txt\", \"r\") as file:\n",
    "    example_notes = file.read()"
   ]
  },
  {
   "cell_type": "code",
   "execution_count": 16,
   "metadata": {},
   "outputs": [],
   "source": [
    "example_fields, example_ticket, example_nearby = parse_notes(example_notes)"
   ]
  },
  {
   "cell_type": "code",
   "execution_count": 17,
   "metadata": {},
   "outputs": [
    {
     "data": {
      "text/plain": [
       "{'class': [(1, 3), (5, 7)],\n",
       " 'row': [(6, 11), (33, 44)],\n",
       " 'seat': [(13, 40), (45, 50)]}"
      ]
     },
     "execution_count": 17,
     "metadata": {},
     "output_type": "execute_result"
    }
   ],
   "source": [
    "example_fields"
   ]
  },
  {
   "cell_type": "code",
   "execution_count": 18,
   "metadata": {},
   "outputs": [
    {
     "data": {
      "text/plain": [
       "(7, 1, 14)"
      ]
     },
     "execution_count": 18,
     "metadata": {},
     "output_type": "execute_result"
    }
   ],
   "source": [
    "example_ticket"
   ]
  },
  {
   "cell_type": "code",
   "execution_count": 19,
   "metadata": {},
   "outputs": [
    {
     "data": {
      "text/plain": [
       "[(7, 3, 47), (40, 4, 50), (55, 2, 20), (38, 6, 12)]"
      ]
     },
     "execution_count": 19,
     "metadata": {},
     "output_type": "execute_result"
    }
   ],
   "source": [
    "example_nearby"
   ]
  },
  {
   "cell_type": "code",
   "execution_count": 22,
   "metadata": {},
   "outputs": [],
   "source": [
    "assert check_ticket(example_nearby[0], example_fields) == []"
   ]
  },
  {
   "cell_type": "code",
   "execution_count": 23,
   "metadata": {},
   "outputs": [],
   "source": [
    "assert check_ticket(example_nearby[1], example_fields) == [4]"
   ]
  },
  {
   "cell_type": "code",
   "execution_count": 24,
   "metadata": {},
   "outputs": [],
   "source": [
    "assert check_ticket(example_nearby[2], example_fields) == [55]"
   ]
  },
  {
   "cell_type": "code",
   "execution_count": 25,
   "metadata": {},
   "outputs": [],
   "source": [
    "assert check_ticket(example_nearby[3], example_fields) == [12]"
   ]
  },
  {
   "cell_type": "code",
   "execution_count": 29,
   "metadata": {},
   "outputs": [],
   "source": [
    "assert scanning_error_rate(example_nearby, example_fields) == 71"
   ]
  },
  {
   "cell_type": "markdown",
   "metadata": {},
   "source": [
    "## Part 1"
   ]
  },
  {
   "cell_type": "code",
   "execution_count": 31,
   "metadata": {},
   "outputs": [],
   "source": [
    "with open(\"input.txt\", \"r\") as file:\n",
    "    input_fields, input_ticket, input_nearby = parse_notes(file.read().strip())"
   ]
  },
  {
   "cell_type": "code",
   "execution_count": 32,
   "metadata": {},
   "outputs": [
    {
     "data": {
      "text/plain": [
       "32835"
      ]
     },
     "execution_count": 32,
     "metadata": {},
     "output_type": "execute_result"
    }
   ],
   "source": [
    "scanning_error_rate(input_nearby, input_fields)"
   ]
  },
  {
   "cell_type": "markdown",
   "metadata": {},
   "source": [
    "## Part 2"
   ]
  },
  {
   "cell_type": "code",
   "execution_count": 36,
   "metadata": {},
   "outputs": [],
   "source": [
    "def only_valid(tickets, fields):\n",
    "    valid_tickets = []\n",
    "    for t in tickets:\n",
    "        if len(check_ticket(t, fields)) == 0:\n",
    "            valid_tickets.append(t)\n",
    "    return valid_tickets"
   ]
  },
  {
   "cell_type": "code",
   "execution_count": 126,
   "metadata": {},
   "outputs": [],
   "source": [
    "def predict_fields(tickets, fields):\n",
    "    predictions = []\n",
    "    for i in range(0, len(tickets[0])):\n",
    "        possible = list(fields.keys())\n",
    "        \n",
    "        # eliminate possibilities from the fields list\n",
    "        for ticket in tickets:\n",
    "            for field in possible:\n",
    "                if not check_field(ticket[i], fields[field]):\n",
    "                    # the value cannot be one of the possible fields, so remove it\n",
    "                    possible.remove(field)\n",
    "        \n",
    "        predictions.append(possible)\n",
    "    \n",
    "    definite_fields = [None] * len(tickets[0])\n",
    "    predictions_updated = True\n",
    "    \n",
    "    while predictions_updated:\n",
    "        predictions_updated = False\n",
    "        for i, l in enumerate(predictions):\n",
    "            if len(l) == 1 and len([p for p in predictions if p == l]):\n",
    "                # if this position only has 1 prediction and no positions *just* have this prediction, then this position **must** be that field\n",
    "                definite_fields[i] = l[0]\n",
    "                \n",
    "                # if this position is **definitly** a certain field, other positions cannot also be this field, so remove any predictions for this field\n",
    "                # e.g. if this is definitely field A and the second position is predicted to be field A and B, then we can eliminate field A from the\n",
    "                #      predictions for the second position\n",
    "                new_predictions = []\n",
    "                for p in predictions:\n",
    "                    new_predictions.append([x for x in p if x != l[0]])\n",
    "                predictions = new_predictions\n",
    "                predictions_updated = True\n",
    "    \n",
    "    # make sure that all of the predictions are empty?\n",
    "    for i, p in enumerate(predictions):\n",
    "        if len(p) > 0:\n",
    "            print(\"{} still has multiple predictions {}\".format(i, p))\n",
    "    \n",
    "    return definite_fields"
   ]
  },
  {
   "cell_type": "markdown",
   "metadata": {},
   "source": [
    "### Another example"
   ]
  },
  {
   "cell_type": "code",
   "execution_count": 37,
   "metadata": {},
   "outputs": [],
   "source": [
    "with open(\"example2.txt\", \"r\") as file:\n",
    "    example2_fields, example2_ticket, example2_nearby = parse_notes(file.read().strip())"
   ]
  },
  {
   "cell_type": "code",
   "execution_count": 38,
   "metadata": {},
   "outputs": [],
   "source": [
    "example2_valid = only_valid(example2_nearby, example2_fields)"
   ]
  },
  {
   "cell_type": "code",
   "execution_count": 127,
   "metadata": {},
   "outputs": [
    {
     "name": "stdout",
     "output_type": "stream",
     "text": [
      "0 HAS to be ['row']\n",
      "1 HAS to be ['class']\n",
      "2 HAS to be ['seat']\n"
     ]
    }
   ],
   "source": [
    "x = predict_fields(example2_valid, example2_fields)"
   ]
  },
  {
   "cell_type": "code",
   "execution_count": 128,
   "metadata": {},
   "outputs": [
    {
     "data": {
      "text/plain": [
       "['row', 'class', 'seat']"
      ]
     },
     "execution_count": 128,
     "metadata": {},
     "output_type": "execute_result"
    }
   ],
   "source": [
    "x"
   ]
  },
  {
   "cell_type": "markdown",
   "metadata": {},
   "source": [
    "### And the real thing..."
   ]
  },
  {
   "cell_type": "code",
   "execution_count": 129,
   "metadata": {},
   "outputs": [],
   "source": [
    "input_valid = only_valid(input_nearby, input_fields)"
   ]
  },
  {
   "cell_type": "code",
   "execution_count": 132,
   "metadata": {},
   "outputs": [
    {
     "name": "stdout",
     "output_type": "stream",
     "text": [
      "12 HAS to be ['class']\n",
      "9 HAS to be ['arrival location']\n",
      "7 HAS to be ['arrival track']\n",
      "11 HAS to be ['train']\n",
      "10 HAS to be ['duration']\n",
      "4 HAS to be ['seat']\n",
      "3 HAS to be ['route']\n",
      "16 HAS to be ['type']\n",
      "6 HAS to be ['departure platform']\n",
      "1 HAS to be ['departure time']\n",
      "13 HAS to be ['departure track']\n",
      "2 HAS to be ['departure station']\n",
      "14 HAS to be ['departure date']\n",
      "15 HAS to be ['departure location']\n",
      "18 HAS to be ['arrival station']\n",
      "17 HAS to be ['row']\n",
      "5 HAS to be ['arrival platform']\n",
      "0 HAS to be ['wagon']\n",
      "8 HAS to be ['zone']\n",
      "19 HAS to be ['price']\n"
     ]
    }
   ],
   "source": [
    "definite_fields = predict_fields(input_valid, input_fields)"
   ]
  },
  {
   "cell_type": "code",
   "execution_count": 133,
   "metadata": {},
   "outputs": [
    {
     "name": "stdout",
     "output_type": "stream",
     "text": [
      "wagon -> 89\n",
      "departure time -> 193\n",
      "departure station -> 59\n",
      "route -> 179\n",
      "seat -> 191\n",
      "arrival platform -> 173\n",
      "departure platform -> 61\n",
      "arrival track -> 73\n",
      "zone -> 181\n",
      "arrival location -> 67\n",
      "duration -> 71\n",
      "train -> 109\n",
      "class -> 53\n",
      "departure track -> 79\n",
      "departure date -> 83\n",
      "departure location -> 113\n",
      "type -> 107\n",
      "row -> 139\n",
      "arrival station -> 131\n",
      "price -> 137\n",
      "Answer: 514662805187\n"
     ]
    }
   ],
   "source": [
    "product = 1\n",
    "for i, value in enumerate(input_ticket):\n",
    "    print(\"{} -> {}\".format(definite_fields[i], value))\n",
    "    if definite_fields[i].startswith(\"departure \"):\n",
    "        product *= value\n",
    "\n",
    "print(\"Answer: {}\".format(product))"
   ]
  }
 ],
 "metadata": {
  "kernelspec": {
   "display_name": "Python 3",
   "language": "python",
   "name": "python3"
  },
  "language_info": {
   "codemirror_mode": {
    "name": "ipython",
    "version": 3
   },
   "file_extension": ".py",
   "mimetype": "text/x-python",
   "name": "python",
   "nbconvert_exporter": "python",
   "pygments_lexer": "ipython3",
   "version": "3.8.5"
  }
 },
 "nbformat": 4,
 "nbformat_minor": 4
}
