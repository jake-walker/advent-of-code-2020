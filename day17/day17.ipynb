{
 "cells": [
  {
   "cell_type": "markdown",
   "metadata": {},
   "source": [
    "# Day 17: Conway Cubes\n",
    "\n",
    "[Brief](https://adventofcode.com/2020/day/17)"
   ]
  },
  {
   "cell_type": "code",
   "execution_count": 126,
   "metadata": {},
   "outputs": [],
   "source": [
    "def get_position(cube, x, y, z=0):\n",
    "    try:\n",
    "        return cube[str(z)][str(y)][str(x)]\n",
    "    except:\n",
    "        return \".\""
   ]
  },
  {
   "cell_type": "code",
   "execution_count": 127,
   "metadata": {},
   "outputs": [],
   "source": [
    "def set_position(cube, x, y, z, value):\n",
    "    x = str(x)\n",
    "    y = str(y)\n",
    "    z = str(z)\n",
    "    \n",
    "    if z in cube:\n",
    "        if y in cube[z]:\n",
    "            cube[z][y][x] = value\n",
    "        else:\n",
    "            cube[z][y] = {x: value}\n",
    "    else:\n",
    "        cube[z] = {y: {x: value}}"
   ]
  },
  {
   "cell_type": "code",
   "execution_count": 135,
   "metadata": {},
   "outputs": [],
   "source": [
    "def load_cube(cube, grid):\n",
    "    grid = [list(r) for r in grid.split(\"\\n\")]\n",
    "    # print(grid)\n",
    "    for y in range(len(grid)):\n",
    "        for x in range(len(grid[0])):\n",
    "            set_position(cube, x, y, 0, grid[y][x])"
   ]
  },
  {
   "cell_type": "code",
   "execution_count": 136,
   "metadata": {},
   "outputs": [],
   "source": [
    "def get_ranges(cube):\n",
    "    min_z = None\n",
    "    max_z = None\n",
    "    min_y = None\n",
    "    max_y = None\n",
    "    min_x = None\n",
    "    max_x = None\n",
    "    \n",
    "    for kz in cube.keys():\n",
    "        z = int(kz)\n",
    "        \n",
    "        if max_z is None or z > max_z:\n",
    "            max_z = z\n",
    "        if min_z is None or z < min_z:\n",
    "            min_z = z\n",
    "            \n",
    "        for ky in cube[kz].keys():\n",
    "            y = int(ky)\n",
    "            \n",
    "            if max_y is None or y > max_y:\n",
    "                max_y = y\n",
    "            if min_y is None or y < min_y:\n",
    "                min_y = y\n",
    "            \n",
    "            for kx in cube[kz][ky].keys():\n",
    "                x = int(kx)\n",
    "                \n",
    "                if max_x is None or x > max_x:\n",
    "                    max_x = x\n",
    "                if min_x is None or x < min_x:\n",
    "                    min_x = x\n",
    "    \n",
    "    return (min_z, max_z, min_y, max_y, min_x, max_x)"
   ]
  },
  {
   "cell_type": "code",
   "execution_count": 137,
   "metadata": {},
   "outputs": [],
   "source": [
    "def print_cube(cube):\n",
    "    from_z, to_z, from_y, to_y, from_x, to_x = get_ranges(cube)\n",
    "    for z in range(from_z, to_z+1):\n",
    "        print(\"Layer z={}\".format(z))\n",
    "        for y in range(from_y, to_y+1):\n",
    "            for x in range(from_x, to_x+1):\n",
    "                print(get_position(cube, x, y, z), end=\"\")\n",
    "            print()"
   ]
  },
  {
   "cell_type": "code",
   "execution_count": 138,
   "metadata": {},
   "outputs": [],
   "source": [
    "def get_active_neighbours(cube, x, y, z):\n",
    "    count = 0\n",
    "    for z1 in range(-1, 2):\n",
    "        for y1 in range(-1, 2):\n",
    "            for x1 in range(-1, 2):\n",
    "                if z1 == 0 and y1 == 0 and x1 == 0:\n",
    "                    continue\n",
    "                \n",
    "                if get_position(cube, x+x1, y+y1, z+z1) == \"#\":\n",
    "                    count += 1\n",
    "    return count"
   ]
  },
  {
   "cell_type": "code",
   "execution_count": 143,
   "metadata": {},
   "outputs": [],
   "source": [
    "import copy\n",
    "def change_state(cube):\n",
    "    new_cube = copy.deepcopy(cube)\n",
    "    from_z, to_z, from_y, to_y, from_x, to_x = get_ranges(cube)\n",
    "    for z in range(from_z-1, to_z+2):\n",
    "        for y in range(from_y-1, to_y+2):\n",
    "            for x in range(from_x-1, to_x+2):\n",
    "                neighbours = get_active_neighbours(cube, x, y, z)\n",
    "                is_active = get_position(cube, x, y, z) == \"#\"\n",
    "                \n",
    "                if is_active and (neighbours != 2 or neighbours != 3):\n",
    "                    set_position(new_cube, x, y, z, \".\")\n",
    "                elif not is_active and neighbours == 3:\n",
    "                    set_position(new_cube, x, y, z, \"#\")\n",
    "    \n",
    "    return new_cube"
   ]
  },
  {
   "cell_type": "markdown",
   "metadata": {},
   "source": [
    "## Example"
   ]
  },
  {
   "cell_type": "code",
   "execution_count": 147,
   "metadata": {},
   "outputs": [],
   "source": [
    "example_cube = {}\n",
    "load_cube(example_cube, \".#.\\n..#\\n###\")"
   ]
  },
  {
   "cell_type": "code",
   "execution_count": 148,
   "metadata": {},
   "outputs": [],
   "source": [
    "cube2 = change_state(example_cube)"
   ]
  },
  {
   "cell_type": "code",
   "execution_count": 149,
   "metadata": {},
   "outputs": [
    {
     "name": "stdout",
     "output_type": "stream",
     "text": [
      "Layer z=-1\n",
      "...\n",
      "#..\n",
      "..#\n",
      ".#.\n",
      "Layer z=0\n",
      "...\n",
      "#..\n",
      "...\n",
      ".#.\n",
      "Layer z=1\n",
      "...\n",
      "#..\n",
      "..#\n",
      ".#.\n"
     ]
    }
   ],
   "source": [
    "print_cube(cube2)"
   ]
  },
  {
   "cell_type": "code",
   "execution_count": null,
   "metadata": {},
   "outputs": [],
   "source": [
    "# The middle layer is not what is expected???"
   ]
  }
 ],
 "metadata": {
  "kernelspec": {
   "display_name": "Python 3",
   "language": "python",
   "name": "python3"
  },
  "language_info": {
   "codemirror_mode": {
    "name": "ipython",
    "version": 3
   },
   "file_extension": ".py",
   "mimetype": "text/x-python",
   "name": "python",
   "nbconvert_exporter": "python",
   "pygments_lexer": "ipython3",
   "version": "3.8.5"
  }
 },
 "nbformat": 4,
 "nbformat_minor": 4
}
