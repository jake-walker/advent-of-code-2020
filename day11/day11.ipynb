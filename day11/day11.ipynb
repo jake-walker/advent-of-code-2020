{
 "cells": [
  {
   "cell_type": "markdown",
   "metadata": {},
   "source": [
    "# Day 11: Seating System 🎉\n",
    "\n",
    "[Brief](https://adventofcode.com/2020/day/11)"
   ]
  },
  {
   "cell_type": "code",
   "execution_count": 1,
   "metadata": {},
   "outputs": [],
   "source": [
    "def count_adjacent(seats, y, x):\n",
    "    count = 0\n",
    "    \n",
    "    for y1 in range(-1, 2):\n",
    "        for x1 in range(-1, 2):\n",
    "            if y1 == 0 and x1 == 0:\n",
    "                continue\n",
    "                \n",
    "            if not (0 <= (y + y1) < len(seats) and 0 <= (x + x1) < len(seats[0])):\n",
    "                continue\n",
    "            \n",
    "            count += (1 if seats[y + y1][x + x1] == \"#\" else 0)\n",
    "    \n",
    "    return count"
   ]
  },
  {
   "cell_type": "code",
   "execution_count": 2,
   "metadata": {},
   "outputs": [],
   "source": [
    "import copy\n",
    "\n",
    "def predict_seats(seats, threshold=4, func=count_adjacent):\n",
    "    output = copy.deepcopy(seats)\n",
    "    \n",
    "    for y in range(len(seats)):\n",
    "        for x in range(len(seats[0])):\n",
    "            adjacent_occupied = func(seats, y, x)\n",
    "            \n",
    "            if seats[y][x] == \"L\" and adjacent_occupied == 0:\n",
    "                output[y][x] = \"#\"\n",
    "            elif seats[y][x] == \"#\" and adjacent_occupied >= threshold:\n",
    "                output[y][x] = \"L\"\n",
    "    \n",
    "    return output"
   ]
  },
  {
   "cell_type": "code",
   "execution_count": 25,
   "metadata": {},
   "outputs": [],
   "source": [
    "def predict_to_stable(seats, threshold=4, func=count_adjacent):\n",
    "    current_seats = []\n",
    "    new_seats = seats\n",
    "    \n",
    "    while current_seats != new_seats:\n",
    "        current_seats = new_seats\n",
    "        new_seats = predict_seats(current_seats, threshold, func)\n",
    "    \n",
    "    return new_seats"
   ]
  },
  {
   "cell_type": "markdown",
   "metadata": {},
   "source": [
    "## Example"
   ]
  },
  {
   "cell_type": "code",
   "execution_count": 26,
   "metadata": {},
   "outputs": [],
   "source": [
    "with open(\"example.txt\", \"r\") as file:\n",
    "    example_seats = [list(x) for x in file.read().splitlines()]"
   ]
  },
  {
   "cell_type": "code",
   "execution_count": 27,
   "metadata": {},
   "outputs": [
    {
     "name": "stdout",
     "output_type": "stream",
     "text": [
      "#.#L.L#.##\n",
      "#LLL#LL.L#\n",
      "L.#.L..#..\n",
      "#L##.##.L#\n",
      "#.#L.LL.LL\n",
      "#.#L#L#.##\n",
      "..L.L.....\n",
      "#L#L##L#L#\n",
      "#.LLLLLL.L\n",
      "#.#L#L#.##\n"
     ]
    }
   ],
   "source": [
    "print(\"\\n\".join([\"\".join(x) for x in predict_to_stable(example_seats)]))"
   ]
  },
  {
   "cell_type": "markdown",
   "metadata": {},
   "source": [
    "## Part 1"
   ]
  },
  {
   "cell_type": "code",
   "execution_count": 28,
   "metadata": {},
   "outputs": [],
   "source": [
    "with open(\"input.txt\", \"r\") as file:\n",
    "    input_seats = [list(x) for x in file.read().splitlines()]"
   ]
  },
  {
   "cell_type": "code",
   "execution_count": 29,
   "metadata": {},
   "outputs": [],
   "source": [
    "output = predict_to_stable(input_seats)"
   ]
  },
  {
   "cell_type": "code",
   "execution_count": 30,
   "metadata": {},
   "outputs": [
    {
     "name": "stdout",
     "output_type": "stream",
     "text": [
      "There are 2275 occupied seats!\n"
     ]
    }
   ],
   "source": [
    "occupied = sum(output[y][x] == \"#\" for y in range(len(output)) for x in range(len(output[0])))\n",
    "print(\"There are {} occupied seats!\".format(occupied))"
   ]
  },
  {
   "cell_type": "markdown",
   "metadata": {},
   "source": [
    "## Part 2"
   ]
  },
  {
   "cell_type": "code",
   "execution_count": 31,
   "metadata": {},
   "outputs": [],
   "source": [
    "def count_adjacent2(seats, y, x):   \n",
    "    count = 0\n",
    "    \n",
    "    for y1 in range(-1, 2):\n",
    "        for x1 in range(-1, 2):\n",
    "            if y1 == 0 and x1 == 0:\n",
    "                continue\n",
    "            \n",
    "            current_y = y + y1\n",
    "            current_x = x + x1\n",
    "            \n",
    "            while 0 <= current_y < len(seats) and 0 <= current_x < len(seats[0]):\n",
    "                current_seat = seats[current_y][current_x]\n",
    "                \n",
    "                if current_seat == \"#\":\n",
    "                    count += 1\n",
    "                    break\n",
    "                elif current_seat == \"L\":\n",
    "                    break\n",
    "                \n",
    "                current_y = current_y + y1\n",
    "                current_x = current_x + x1\n",
    "    \n",
    "    return count"
   ]
  },
  {
   "cell_type": "code",
   "execution_count": 32,
   "metadata": {},
   "outputs": [],
   "source": [
    "assert count_adjacent2([\".##.##.\",\n",
    "                        \"#.#.#.#\",\n",
    "                        \"##...##\",\n",
    "                        \"...L...\",\n",
    "                        \"##...##\",\n",
    "                        \"#.#.#.#\",\n",
    "                        \".##.##.\"], 3, 3) == 0"
   ]
  },
  {
   "cell_type": "code",
   "execution_count": 33,
   "metadata": {},
   "outputs": [],
   "source": [
    "assert count_adjacent2([\".......#.\",\n",
    "                        \"...#.....\",\n",
    "                        \".#.......\",\n",
    "                        \".........\",\n",
    "                        \"..#L....#\",\n",
    "                        \"....#....\",\n",
    "                        \".........\",\n",
    "                        \"#........\",\n",
    "                        \"...#.....\"], 4, 3) == 8"
   ]
  },
  {
   "cell_type": "code",
   "execution_count": 34,
   "metadata": {},
   "outputs": [],
   "source": [
    "output2 = predict_to_stable(input_seats, threshold=5, func=count_adjacent2)"
   ]
  },
  {
   "cell_type": "code",
   "execution_count": 35,
   "metadata": {},
   "outputs": [
    {
     "name": "stdout",
     "output_type": "stream",
     "text": [
      "There are 2121 occupied seats!\n"
     ]
    }
   ],
   "source": [
    "occupied2 = sum(output2[y][x] == \"#\" for y in range(len(output2)) for x in range(len(output2[0])))\n",
    "print(\"There are {} occupied seats!\".format(occupied2))"
   ]
  },
  {
   "cell_type": "code",
   "execution_count": null,
   "metadata": {},
   "outputs": [],
   "source": []
  }
 ],
 "metadata": {
  "kernelspec": {
   "display_name": "Python 3",
   "language": "python",
   "name": "python3"
  },
  "language_info": {
   "codemirror_mode": {
    "name": "ipython",
    "version": 3
   },
   "file_extension": ".py",
   "mimetype": "text/x-python",
   "name": "python",
   "nbconvert_exporter": "python",
   "pygments_lexer": "ipython3",
   "version": "3.8.5"
  }
 },
 "nbformat": 4,
 "nbformat_minor": 4
}
