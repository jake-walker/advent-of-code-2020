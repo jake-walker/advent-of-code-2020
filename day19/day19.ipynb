{
 "cells": [
  {
   "cell_type": "markdown",
   "metadata": {},
   "source": [
    "# Day 19: Monster Messages\n",
    "\n",
    "[Brief](https://adventofcode.com/2020/day/19)"
   ]
  },
  {
   "cell_type": "code",
   "execution_count": 93,
   "metadata": {},
   "outputs": [],
   "source": [
    "import itertools"
   ]
  },
  {
   "cell_type": "code",
   "execution_count": 94,
   "metadata": {},
   "outputs": [],
   "source": [
    "def parse_rules(text):\n",
    "    rules = {}\n",
    "    for rule in text.splitlines():\n",
    "        # print(rule)\n",
    "        rule_id = rule.split(\": \")[0]\n",
    "        rule_content = \"\".join(rule.split(\": \")[1:])\n",
    "        \n",
    "        if rule_content.startswith('\"'):\n",
    "            rules[rule_id] = rule_content[1:-1]\n",
    "        else:\n",
    "            sub_rules = [sub_rule.split(\" \") for sub_rule in rule_content.split(\" | \")]\n",
    "            rules[rule_id] = sub_rules\n",
    "    \n",
    "    return rules"
   ]
  },
  {
   "cell_type": "code",
   "execution_count": 95,
   "metadata": {},
   "outputs": [],
   "source": [
    "def get_combinations(rules, rule_id='0'):\n",
    "    combinations = []\n",
    "    rule = rules[rule_id]\n",
    "    \n",
    "    if isinstance(rule, str):\n",
    "        combinations.append(rule)\n",
    "    else:\n",
    "        for sub_rule in rule:\n",
    "            l = []\n",
    "            for r in sub_rule:\n",
    "                l.append(get_combinations(rules, rule_id=r))\n",
    "            combinations += [\"\".join(x) for x in itertools.product(*l)]\n",
    "                \n",
    "    return combinations"
   ]
  },
  {
   "cell_type": "markdown",
   "metadata": {},
   "source": [
    "## Examples"
   ]
  },
  {
   "cell_type": "code",
   "execution_count": 96,
   "metadata": {},
   "outputs": [],
   "source": [
    "example_rules = parse_rules('''0: 1 2\n",
    "1: \"a\"\n",
    "2: 1 3 | 3 1\n",
    "3: \"b\"''')"
   ]
  },
  {
   "cell_type": "code",
   "execution_count": 101,
   "metadata": {},
   "outputs": [],
   "source": [
    "assert get_combinations(example_rules) == [\"aab\", \"aba\"]"
   ]
  },
  {
   "cell_type": "code",
   "execution_count": 102,
   "metadata": {},
   "outputs": [],
   "source": [
    "example2_rules = parse_rules('''0: 4 1 5\n",
    "1: 2 3 | 3 2\n",
    "2: 4 4 | 5 5\n",
    "3: 4 5 | 5 4\n",
    "4: \"a\"\n",
    "5: \"b\"''')"
   ]
  },
  {
   "cell_type": "code",
   "execution_count": 104,
   "metadata": {},
   "outputs": [],
   "source": [
    "assert get_combinations(example2_rules) == [\"aaaabb\", \"aaabab\", \"abbabb\", \"abbbab\", \"aabaab\", \"aabbbb\", \"abaaab\", \"ababbb\"]"
   ]
  },
  {
   "cell_type": "markdown",
   "metadata": {},
   "source": [
    "## Part 1"
   ]
  },
  {
   "cell_type": "code",
   "execution_count": 112,
   "metadata": {},
   "outputs": [],
   "source": [
    "def parse_input(text):\n",
    "    sections = text.split(\"\\n\\n\")\n",
    "    return parse_rules(sections[0]), sections[1].strip().split(\"\\n\")"
   ]
  },
  {
   "cell_type": "code",
   "execution_count": 113,
   "metadata": {},
   "outputs": [],
   "source": [
    "with open(\"input.txt\", \"r\") as file:\n",
    "    input_rules, input_messages = parse_input(file.read())"
   ]
  },
  {
   "cell_type": "code",
   "execution_count": 116,
   "metadata": {},
   "outputs": [],
   "source": [
    "valid_messages = get_combinations(input_rules)"
   ]
  },
  {
   "cell_type": "code",
   "execution_count": 117,
   "metadata": {},
   "outputs": [],
   "source": [
    "valid_count = 0\n",
    "for message in input_messages:\n",
    "    if message in valid_messages:\n",
    "        valid_count += 1"
   ]
  },
  {
   "cell_type": "code",
   "execution_count": 118,
   "metadata": {},
   "outputs": [
    {
     "name": "stdout",
     "output_type": "stream",
     "text": [
      "There are 126 valid messages\n"
     ]
    }
   ],
   "source": [
    "print(\"There are {} valid messages\".format(valid_count))"
   ]
  }
 ],
 "metadata": {
  "kernelspec": {
   "display_name": "Python 3",
   "language": "python",
   "name": "python3"
  },
  "language_info": {
   "codemirror_mode": {
    "name": "ipython",
    "version": 3
   },
   "file_extension": ".py",
   "mimetype": "text/x-python",
   "name": "python",
   "nbconvert_exporter": "python",
   "pygments_lexer": "ipython3",
   "version": "3.8.5"
  }
 },
 "nbformat": 4,
 "nbformat_minor": 4
}
