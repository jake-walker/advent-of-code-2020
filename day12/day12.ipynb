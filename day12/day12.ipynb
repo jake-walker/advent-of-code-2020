{
 "cells": [
  {
   "cell_type": "markdown",
   "metadata": {},
   "source": [
    "# Day 12: Rain Risk\n",
    "\n",
    "[Brief](https://adventofcode.com/2020/day/12)"
   ]
  },
  {
   "cell_type": "code",
   "execution_count": 7,
   "metadata": {},
   "outputs": [],
   "source": [
    "import math"
   ]
  },
  {
   "cell_type": "code",
   "execution_count": 115,
   "metadata": {},
   "outputs": [],
   "source": [
    "def manhattan_distance(x, y):\n",
    "    return abs(x) + abs(y)"
   ]
  },
  {
   "cell_type": "code",
   "execution_count": 116,
   "metadata": {},
   "outputs": [],
   "source": [
    "def do_instructions(instructions):\n",
    "    x = 0\n",
    "    y = 0\n",
    "    heading = 90\n",
    "    \n",
    "    for instruction in instructions:\n",
    "        command = instruction[0]\n",
    "        value = int(instruction[1:])\n",
    "        \n",
    "        if command == \"F\":\n",
    "            x += round(math.sin(math.radians(heading))) * value\n",
    "            y += round(math.cos(math.radians(heading))) * value\n",
    "        elif command == \"N\":\n",
    "            y += value\n",
    "        elif command == \"S\":\n",
    "            y -= value\n",
    "        elif command == \"E\":\n",
    "            x += value\n",
    "        elif command == \"W\":\n",
    "            x -= value\n",
    "        elif command == \"L\":\n",
    "            heading -= value\n",
    "        elif command == \"R\":\n",
    "            heading += value\n",
    "        \n",
    "        # print(\"{}: The ship is now facing {}deg at position east {}, north {}\".format(instruction, heading, x, y))\n",
    "    \n",
    "    return manhattan_distance(x, y)"
   ]
  },
  {
   "cell_type": "markdown",
   "metadata": {},
   "source": [
    "## Example"
   ]
  },
  {
   "cell_type": "code",
   "execution_count": 117,
   "metadata": {},
   "outputs": [],
   "source": [
    "with open(\"example.txt\", \"r\") as file:\n",
    "    example_instructions = file.read().splitlines()\n",
    "\n",
    "assert do_instructions(example_instructions) == 25"
   ]
  },
  {
   "cell_type": "markdown",
   "metadata": {},
   "source": [
    "## Part 1"
   ]
  },
  {
   "cell_type": "code",
   "execution_count": 118,
   "metadata": {},
   "outputs": [
    {
     "data": {
      "text/plain": [
       "1956"
      ]
     },
     "execution_count": 118,
     "metadata": {},
     "output_type": "execute_result"
    }
   ],
   "source": [
    "with open(\"input.txt\", \"r\") as file:\n",
    "    input_instructions = file.read().splitlines()\n",
    "\n",
    "do_instructions(input_instructions)"
   ]
  },
  {
   "cell_type": "markdown",
   "metadata": {},
   "source": [
    "## Part 2"
   ]
  },
  {
   "cell_type": "code",
   "execution_count": 126,
   "metadata": {},
   "outputs": [],
   "source": [
    "def rotate_point(p1, p2, angle):\n",
    "    x1, y1 = p1\n",
    "    x2, y2 = p2\n",
    "    \n",
    "    x = x1 + round(math.cos(angle)) * (x2 - x1) - round(math.sin(angle)) * (y2 - y1)\n",
    "    y = y1 + round(math.sin(angle)) * (x2 - x1) - round(math.cos(angle)) * (y2 - y1)\n",
    "    return x, y"
   ]
  },
  {
   "cell_type": "code",
   "execution_count": 127,
   "metadata": {},
   "outputs": [],
   "source": [
    "def do_instructions(instructions):\n",
    "    waypoint_x = 10\n",
    "    waypoint_y = 1\n",
    "    ship_x = 0\n",
    "    ship_y = 0\n",
    "    \n",
    "    for instruction in instructions:\n",
    "        command = instruction[0]\n",
    "        value = int(instruction[1:])\n",
    "        \n",
    "        if command == \"F\":\n",
    "            ship_x += waypoint_x * value\n",
    "            ship_y += waypoint_y * value\n",
    "        elif command == \"N\":\n",
    "            waypoint_y += value\n",
    "        elif command == \"S\":\n",
    "            waypoint_y -= value\n",
    "        elif command == \"E\":\n",
    "            waypoint_x += value\n",
    "        elif command == \"W\":\n",
    "            waypoint_x -= value\n",
    "        elif command == \"L\":\n",
    "            waypoint_x, waypoint_y = rotate_point((0, 0), (waypoint_x, waypoint_y), math.radians(value))\n",
    "            #waypoint_x = -waypoint_y\n",
    "            #waypoint_y = waypoint_x\n",
    "        elif command == \"R\":\n",
    "            waypoint_x, waypoint_y = rotate_point((0, 0), (waypoint_x, waypoint_y), math.radians(-value))\n",
    "            #waypoint_x = waypoint_y\n",
    "            #waypoint_y = -waypoint_x\n",
    "        \n",
    "        # print(\"{}: Waypoint is at ({}, {}), ship is at ({}, {})\".format(instruction, waypoint_x, waypoint_y, ship_x, ship_y))\n",
    "    \n",
    "    print(\"Waypoint is at ({}, {}), ship is at ({}, {})\".format(waypoint_x, waypoint_y, ship_x, ship_y))\n",
    "    return manhattan_distance(ship_x, ship_y)"
   ]
  },
  {
   "cell_type": "code",
   "execution_count": 128,
   "metadata": {},
   "outputs": [
    {
     "name": "stdout",
     "output_type": "stream",
     "text": [
      "Waypoint is at (4, -10), ship is at (214, -72)\n"
     ]
    }
   ],
   "source": [
    "assert do_instructions(example_instructions) == 286"
   ]
  },
  {
   "cell_type": "code",
   "execution_count": 129,
   "metadata": {},
   "outputs": [
    {
     "name": "stdout",
     "output_type": "stream",
     "text": [
      "Waypoint is at (-20, -17), ship is at (21730, -50287)\n"
     ]
    },
    {
     "data": {
      "text/plain": [
       "72017"
      ]
     },
     "execution_count": 129,
     "metadata": {},
     "output_type": "execute_result"
    }
   ],
   "source": [
    "with open(\"input.txt\", \"r\") as file:\n",
    "    input_instructions = file.read().splitlines()\n",
    "\n",
    "do_instructions(input_instructions)\n",
    "# 72017 is too small?"
   ]
  }
 ],
 "metadata": {
  "kernelspec": {
   "display_name": "Python 3",
   "language": "python",
   "name": "python3"
  },
  "language_info": {
   "codemirror_mode": {
    "name": "ipython",
    "version": 3
   },
   "file_extension": ".py",
   "mimetype": "text/x-python",
   "name": "python",
   "nbconvert_exporter": "python",
   "pygments_lexer": "ipython3",
   "version": "3.8.5"
  }
 },
 "nbformat": 4,
 "nbformat_minor": 4
}
