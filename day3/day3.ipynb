{
 "cells": [
  {
   "cell_type": "markdown",
   "metadata": {},
   "source": [
    "# Day 3: Toboggan Trajectory\n",
    "\n",
    "[Brief](https://adventofcode.com/2020/day/3)"
   ]
  },
  {
   "cell_type": "code",
   "execution_count": 69,
   "metadata": {},
   "outputs": [],
   "source": [
    "def get_trees(m, right=3, down=1, debug=False):\n",
    "    current_right = 0\n",
    "    trees = 0\n",
    "    \n",
    "    # Iterate through each line in the file, only multiples of down\n",
    "    for i in range(0, len(m), down):\n",
    "        # Make a list from the map line\n",
    "        line = list(m[i])\n",
    "        \n",
    "        if debug:\n",
    "            print(\"Hit character {}\".format(line[current_right % len(line)]))\n",
    "        \n",
    "        # Using mouldo gives a infinite list effect (e.g. if a list is [1, 2, 3] and we get list[5] we would like 2)\n",
    "        if line[current_right % len(line)] == '#':\n",
    "            trees += 1\n",
    "        \n",
    "        # Increment the right counter by the number of right on the slope\n",
    "        current_right += right\n",
    "    return trees"
   ]
  },
  {
   "cell_type": "code",
   "execution_count": 73,
   "metadata": {},
   "outputs": [
    {
     "name": "stdout",
     "output_type": "stream",
     "text": [
      "Hit character 0\n",
      "Hit character 3\n",
      "Hit character 6\n",
      "Hit character 9\n"
     ]
    },
    {
     "data": {
      "text/plain": [
       "0"
      ]
     },
     "execution_count": 73,
     "metadata": {},
     "output_type": "execute_result"
    }
   ],
   "source": [
    "# This should hit 0 on the first line, then 3 on second line, 6 and finally 9 on the last line\n",
    "get_trees([\"0123456789abcdef\",\n",
    "           \"0123456789abcdef\",\n",
    "           \"0123456789abcdef\",\n",
    "           \"0123456789abcdef\"], debug=True)"
   ]
  },
  {
   "cell_type": "code",
   "execution_count": 77,
   "metadata": {},
   "outputs": [],
   "source": [
    "# This should hit all 4 of the trees\n",
    "ans = get_trees([\"#.....................\",\n",
    "                 \"...#..................\",\n",
    "                 \"......#...............\",\n",
    "                 \".........#............\"])\n",
    "assert ans == 4"
   ]
  },
  {
   "cell_type": "markdown",
   "metadata": {},
   "source": [
    "## Example"
   ]
  },
  {
   "cell_type": "code",
   "execution_count": 80,
   "metadata": {},
   "outputs": [],
   "source": [
    "with open(\"example.txt\", \"r\") as file:\n",
    "    lines = file.read().splitlines()\n",
    "    ans = get_trees(lines)\n",
    "    assert ans == 7"
   ]
  },
  {
   "cell_type": "markdown",
   "metadata": {},
   "source": [
    "## Part 1"
   ]
  },
  {
   "cell_type": "code",
   "execution_count": 81,
   "metadata": {},
   "outputs": [
    {
     "name": "stdout",
     "output_type": "stream",
     "text": [
      "There are 244 trees en route!\n"
     ]
    }
   ],
   "source": [
    "with open(\"input.txt\", \"r\") as file:\n",
    "    lines = file.read().splitlines()\n",
    "    ans = get_trees(lines)\n",
    "    print(\"There are {} trees en route!\".format(ans))"
   ]
  },
  {
   "cell_type": "markdown",
   "metadata": {},
   "source": [
    "## Part 2"
   ]
  },
  {
   "cell_type": "code",
   "execution_count": 82,
   "metadata": {},
   "outputs": [
    {
     "name": "stdout",
     "output_type": "stream",
     "text": [
      "There is a product of 9406609920 answers on the routes\n"
     ]
    }
   ],
   "source": [
    "import math\n",
    "\n",
    "with open(\"input.txt\", \"r\") as file:\n",
    "    lines = file.read().splitlines()\n",
    "    # list of different slopes (right, down)\n",
    "    slopes = [(1, 1), (3, 1), (5, 1), (7, 1), (1, 2)]\n",
    "    answers = []\n",
    "    for slope in slopes:\n",
    "        answers.append(get_trees(lines, right=slope[0], down=slope[1]))\n",
    "    ans = math.prod(answers)\n",
    "    print(\"There is a product of {} answers on the routes\".format(ans))"
   ]
  }
 ],
 "metadata": {
  "kernelspec": {
   "display_name": "Python 3",
   "language": "python",
   "name": "python3"
  },
  "language_info": {
   "codemirror_mode": {
    "name": "ipython",
    "version": 3
   },
   "file_extension": ".py",
   "mimetype": "text/x-python",
   "name": "python",
   "nbconvert_exporter": "python",
   "pygments_lexer": "ipython3",
   "version": "3.8.5"
  }
 },
 "nbformat": 4,
 "nbformat_minor": 4
}
