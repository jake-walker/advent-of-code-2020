{
 "cells": [
  {
   "cell_type": "markdown",
   "metadata": {},
   "source": [
    "# Day 14: Docking Data\n",
    "\n",
    "[Brief](https://adventofcode.com/2020/day/14)"
   ]
  },
  {
   "cell_type": "code",
   "execution_count": 1,
   "metadata": {},
   "outputs": [],
   "source": [
    "def apply_mask(value, mask):\n",
    "    result = \"\"\n",
    "    for i in range(36):\n",
    "        if mask[i] == \"X\":\n",
    "            result += value[i]\n",
    "        else:\n",
    "            result += mask[i]\n",
    "    return result"
   ]
  },
  {
   "cell_type": "code",
   "execution_count": 2,
   "metadata": {},
   "outputs": [],
   "source": [
    "def convert_number(n):\n",
    "    return \"{:0>36}\".format(bin(int(n))[2:])"
   ]
  },
  {
   "cell_type": "code",
   "execution_count": 3,
   "metadata": {},
   "outputs": [],
   "source": [
    "def parse_program(lines, debug=False):\n",
    "    mask = \"X\" * 36\n",
    "    memory = {}\n",
    "    for line in lines:\n",
    "        instruction = line.split(\" = \")[0]\n",
    "        value = line.split(\" = \")[1]\n",
    "        \n",
    "        if instruction == \"mask\":\n",
    "            mask = value\n",
    "        elif instruction.startswith(\"mem\"):\n",
    "            address = instruction[4:-1]\n",
    "            value = convert_number(value)\n",
    "            memory[address] = apply_mask(value, mask)\n",
    "    \n",
    "    return memory"
   ]
  },
  {
   "cell_type": "code",
   "execution_count": 4,
   "metadata": {},
   "outputs": [],
   "source": [
    "def memory_result(memory):\n",
    "    total = 0\n",
    "    \n",
    "    for k in memory.keys():\n",
    "        total += int(memory[k], 2)\n",
    "    \n",
    "    return total"
   ]
  },
  {
   "cell_type": "markdown",
   "metadata": {},
   "source": [
    "## Example"
   ]
  },
  {
   "cell_type": "code",
   "execution_count": 5,
   "metadata": {},
   "outputs": [],
   "source": [
    "with open(\"example.txt\", \"r\") as file:\n",
    "    example_lines = file.read().splitlines()"
   ]
  },
  {
   "cell_type": "code",
   "execution_count": 6,
   "metadata": {},
   "outputs": [],
   "source": [
    "example_mem = parse_program(example_lines)\n",
    "assert memory_result(example_mem) == 165"
   ]
  },
  {
   "cell_type": "markdown",
   "metadata": {},
   "source": [
    "## Part 1"
   ]
  },
  {
   "cell_type": "code",
   "execution_count": 7,
   "metadata": {},
   "outputs": [],
   "source": [
    "with open(\"input.txt\", \"r\") as file:\n",
    "    input_lines = file.read().splitlines()"
   ]
  },
  {
   "cell_type": "code",
   "execution_count": 8,
   "metadata": {},
   "outputs": [
    {
     "data": {
      "text/plain": [
       "13865835758282"
      ]
     },
     "execution_count": 8,
     "metadata": {},
     "output_type": "execute_result"
    }
   ],
   "source": [
    "input_mem = parse_program(input_lines)\n",
    "memory_result(input_mem)"
   ]
  },
  {
   "cell_type": "markdown",
   "metadata": {},
   "source": [
    "## Part 2"
   ]
  },
  {
   "cell_type": "code",
   "execution_count": 41,
   "metadata": {},
   "outputs": [],
   "source": [
    "import itertools\n",
    "import copy\n",
    "\n",
    "def get_floating(address):\n",
    "    address = list(address)\n",
    "    output = []\n",
    "    \n",
    "    if address.count(\"f\") <= 0:\n",
    "        return [address]\n",
    "   \n",
    "    for bits_combination in itertools.product([\"0\", \"1\"], repeat=address.count(\"f\")):\n",
    "        new_address = copy.deepcopy(address)\n",
    "        \n",
    "        for bit in bits_combination:\n",
    "            index = new_address.index(\"f\")\n",
    "            new_address[index] = bit\n",
    "            \n",
    "        output.append(\"\".join(new_address))\n",
    "    \n",
    "    return output"
   ]
  },
  {
   "cell_type": "code",
   "execution_count": 42,
   "metadata": {},
   "outputs": [],
   "source": [
    "def apply_mask_address(value, mask):\n",
    "    result = \"\"\n",
    "    for i in range(36):\n",
    "        if mask[i] == \"X\":\n",
    "            result += \"f\"\n",
    "        elif mask[i] == \"1\":\n",
    "            result += \"1\"\n",
    "        else:\n",
    "            result += value[i]\n",
    "    return result"
   ]
  },
  {
   "cell_type": "code",
   "execution_count": 65,
   "metadata": {},
   "outputs": [],
   "source": [
    "def parse_program(lines, debug=False):\n",
    "    mask = \"X\" * 36\n",
    "    memory = {}\n",
    "    for line in lines:\n",
    "        instruction = line.split(\" = \")[0]\n",
    "        value = line.split(\" = \")[1]\n",
    "        \n",
    "        if instruction == \"mask\":\n",
    "            mask = value\n",
    "            # print(\"Updating mask to {}\".format(mask))\n",
    "        elif instruction.startswith(\"mem\"):\n",
    "            address = convert_number(instruction[4:-1])\n",
    "            value = convert_number(value)\n",
    "            # print(\"Got value\", value)\n",
    "            # print(\"                    \", address)\n",
    "            # print(\"                    \", mask)\n",
    "            address = \"{:0>36}\".format(apply_mask_address(address, mask))\n",
    "            # print(\"Got floating address\", address)\n",
    "            for a in get_floating(address):\n",
    "                # print(\"Writing result {} to address {} (dec {})\".format(value, a, int(a, 2)))\n",
    "                memory[str(int(a, 2))] = value\n",
    "        \n",
    "        # print(\"============================================\")\n",
    "    \n",
    "    return memory"
   ]
  },
  {
   "cell_type": "code",
   "execution_count": 58,
   "metadata": {},
   "outputs": [],
   "source": [
    "with open(\"example2.txt\", \"r\") as file:\n",
    "    example2_lines = file.read().splitlines()"
   ]
  },
  {
   "cell_type": "code",
   "execution_count": 59,
   "metadata": {},
   "outputs": [
    {
     "name": "stdout",
     "output_type": "stream",
     "text": [
      "Updating mask to 000000000000000000000000000000X1001X\n",
      "============================================\n",
      "Got value 000000000000000000000000000001100100\n",
      "                     000000000000000000000000000000101010\n",
      "                     000000000000000000000000000000X1001X\n",
      "Got floating address 000000000000000000000000000000f1101f\n",
      "Writing result 000000000000000000000000000001100100 to address 000000000000000000000000000000011010 (dec 26)\n",
      "Writing result 000000000000000000000000000001100100 to address 000000000000000000000000000000011011 (dec 27)\n",
      "Writing result 000000000000000000000000000001100100 to address 000000000000000000000000000000111010 (dec 58)\n",
      "Writing result 000000000000000000000000000001100100 to address 000000000000000000000000000000111011 (dec 59)\n",
      "============================================\n",
      "Updating mask to 00000000000000000000000000000000X0XX\n",
      "============================================\n",
      "Got value 000000000000000000000000000000000001\n",
      "                     000000000000000000000000000000011010\n",
      "                     00000000000000000000000000000000X0XX\n",
      "Got floating address 00000000000000000000000000000001f0ff\n",
      "Writing result 000000000000000000000000000000000001 to address 000000000000000000000000000000010000 (dec 16)\n",
      "Writing result 000000000000000000000000000000000001 to address 000000000000000000000000000000010001 (dec 17)\n",
      "Writing result 000000000000000000000000000000000001 to address 000000000000000000000000000000010010 (dec 18)\n",
      "Writing result 000000000000000000000000000000000001 to address 000000000000000000000000000000010011 (dec 19)\n",
      "Writing result 000000000000000000000000000000000001 to address 000000000000000000000000000000011000 (dec 24)\n",
      "Writing result 000000000000000000000000000000000001 to address 000000000000000000000000000000011001 (dec 25)\n",
      "Writing result 000000000000000000000000000000000001 to address 000000000000000000000000000000011010 (dec 26)\n",
      "Writing result 000000000000000000000000000000000001 to address 000000000000000000000000000000011011 (dec 27)\n",
      "============================================\n"
     ]
    },
    {
     "data": {
      "text/plain": [
       "{'26': '000000000000000000000000000000000001',\n",
       " '27': '000000000000000000000000000000000001',\n",
       " '58': '000000000000000000000000000001100100',\n",
       " '59': '000000000000000000000000000001100100',\n",
       " '16': '000000000000000000000000000000000001',\n",
       " '17': '000000000000000000000000000000000001',\n",
       " '18': '000000000000000000000000000000000001',\n",
       " '19': '000000000000000000000000000000000001',\n",
       " '24': '000000000000000000000000000000000001',\n",
       " '25': '000000000000000000000000000000000001'}"
      ]
     },
     "execution_count": 59,
     "metadata": {},
     "output_type": "execute_result"
    }
   ],
   "source": [
    "example2_mem = parse_program(example2_lines)\n",
    "example2_mem"
   ]
  },
  {
   "cell_type": "code",
   "execution_count": 60,
   "metadata": {},
   "outputs": [
    {
     "data": {
      "text/plain": [
       "True"
      ]
     },
     "execution_count": 60,
     "metadata": {},
     "output_type": "execute_result"
    }
   ],
   "source": [
    "assert memory_result(example2_mem) == 208"
   ]
  },
  {
   "cell_type": "code",
   "execution_count": 66,
   "metadata": {},
   "outputs": [],
   "source": [
    "input_mem2 = parse_program(input_lines)"
   ]
  },
  {
   "cell_type": "code",
   "execution_count": 67,
   "metadata": {},
   "outputs": [
    {
     "data": {
      "text/plain": [
       "4195339838136"
      ]
     },
     "execution_count": 67,
     "metadata": {},
     "output_type": "execute_result"
    }
   ],
   "source": [
    "memory_result(input_mem2)"
   ]
  }
 ],
 "metadata": {
  "kernelspec": {
   "display_name": "Python 3",
   "language": "python",
   "name": "python3"
  },
  "language_info": {
   "codemirror_mode": {
    "name": "ipython",
    "version": 3
   },
   "file_extension": ".py",
   "mimetype": "text/x-python",
   "name": "python",
   "nbconvert_exporter": "python",
   "pygments_lexer": "ipython3",
   "version": "3.8.5"
  }
 },
 "nbformat": 4,
 "nbformat_minor": 4
}
