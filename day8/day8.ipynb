{
 "cells": [
  {
   "cell_type": "markdown",
   "metadata": {},
   "source": [
    "# Day 8: Handheld Halting\n",
    "\n",
    "[Brief](https://adventofcode.com/2020/day/8)"
   ]
  },
  {
   "cell_type": "code",
   "execution_count": 36,
   "metadata": {},
   "outputs": [],
   "source": [
    "def run(code):\n",
    "    lines_run = []\n",
    "    accumulator = 0\n",
    "    current_line = 0\n",
    "    \n",
    "    while True:\n",
    "        if current_line >= (len(code) - 1):\n",
    "            # print(\"Halting execution! Line {} is out of range of program\".format(current_line))\n",
    "            return (accumulator, True)\n",
    "        \n",
    "        if current_line in lines_run:\n",
    "            # print(\"Halting execution! Line {} is being run for a second time\".format(current_line))\n",
    "            return (accumulator, False)\n",
    "        \n",
    "        lines_run.append(current_line)\n",
    "        \n",
    "        opcode = code[current_line].split(\" \")[0].lower()\n",
    "        operand = int(code[current_line].split(\" \")[1])\n",
    "        \n",
    "        if opcode == \"acc\":\n",
    "            accumulator += operand\n",
    "            current_line += 1  \n",
    "        elif opcode == \"jmp\":\n",
    "            current_line += operand\n",
    "        elif opcode == \"nop\":\n",
    "            current_line += 1\n",
    "            "
   ]
  },
  {
   "cell_type": "markdown",
   "metadata": {},
   "source": [
    "## Example"
   ]
  },
  {
   "cell_type": "code",
   "execution_count": 37,
   "metadata": {},
   "outputs": [],
   "source": [
    "with open(\"example.txt\", \"r\") as file:\n",
    "    result = run(file.read().splitlines())\n",
    "\n",
    "assert result == (5, False)"
   ]
  },
  {
   "cell_type": "markdown",
   "metadata": {},
   "source": [
    "## Part 1"
   ]
  },
  {
   "cell_type": "code",
   "execution_count": 38,
   "metadata": {},
   "outputs": [
    {
     "name": "stdout",
     "output_type": "stream",
     "text": [
      "Final accumulator value is 1915\n"
     ]
    }
   ],
   "source": [
    "with open(\"input.txt\", \"r\") as file:\n",
    "    result = run(file.read().splitlines())\n",
    "\n",
    "print(\"Final accumulator value is {}\".format(result[0]))"
   ]
  },
  {
   "cell_type": "markdown",
   "metadata": {},
   "source": [
    "## Part 2"
   ]
  },
  {
   "cell_type": "code",
   "execution_count": 41,
   "metadata": {},
   "outputs": [],
   "source": [
    "def fix_code(code):\n",
    "    for i in range(len(code)):\n",
    "        line = code[i]\n",
    "        \n",
    "        new_code = code.copy()\n",
    "        \n",
    "        opcode = code[i].split(\" \")[0].lower()\n",
    "        operand = int(code[i].split(\" \")[1])\n",
    "        \n",
    "        if opcode == \"acc\":\n",
    "            continue\n",
    "        elif opcode == \"jmp\":\n",
    "            opcode = \"nop\"\n",
    "        elif opcode == \"nop\":\n",
    "            opcode = \"jmp\"\n",
    "        \n",
    "        # print(\"The new opcode is {}\".format(opcode))\n",
    "        new_code[i] = \"{} {}\".format(opcode, operand)\n",
    "        \n",
    "        acc, finishes = run(new_code)\n",
    "        \n",
    "        if finishes:\n",
    "            return acc"
   ]
  },
  {
   "cell_type": "code",
   "execution_count": 43,
   "metadata": {},
   "outputs": [
    {
     "name": "stdout",
     "output_type": "stream",
     "text": [
      "Final accumulator value is 944\n"
     ]
    }
   ],
   "source": [
    "with open(\"input.txt\", \"r\") as file:\n",
    "    result = fix_code(file.read().splitlines())\n",
    "\n",
    "print(\"Final accumulator value is {}\".format(result))"
   ]
  }
 ],
 "metadata": {
  "kernelspec": {
   "display_name": "Python 3",
   "language": "python",
   "name": "python3"
  },
  "language_info": {
   "codemirror_mode": {
    "name": "ipython",
    "version": 3
   },
   "file_extension": ".py",
   "mimetype": "text/x-python",
   "name": "python",
   "nbconvert_exporter": "python",
   "pygments_lexer": "ipython3",
   "version": "3.8.5"
  }
 },
 "nbformat": 4,
 "nbformat_minor": 4
}
