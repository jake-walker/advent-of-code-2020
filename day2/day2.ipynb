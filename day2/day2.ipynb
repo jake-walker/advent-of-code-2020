{
 "cells": [
  {
   "cell_type": "markdown",
   "metadata": {},
   "source": [
    "## Day 2: Password Philosophy\n",
    "\n",
    "[Brief](https://adventofcode.com/2020/day/2)"
   ]
  },
  {
   "cell_type": "code",
   "execution_count": 27,
   "metadata": {},
   "outputs": [],
   "source": [
    "def check_password(line):\n",
    "    # Parse the line in the file\n",
    "    # The number of times a character can be inside the password\n",
    "    policy_number = line.split(\" \")[0]\n",
    "    # Get the minimum times the character can be in the password\n",
    "    policy_min = int(policy_number.split(\"-\")[0])\n",
    "    # ...and the maximum\n",
    "    policy_max = int(policy_number.split(\"-\")[1])\n",
    "    # The char to check number of occurances of\n",
    "    policy_char = line.split(\" \")[1][:-1]\n",
    "    # The password to check\n",
    "    password = \" \".join(line.split(\" \")[2:])\n",
    "    \n",
    "    # print(\"Checking password {} with {} to {} of {} required\".format(password, policy_min, policy_max, policy_char))\n",
    "    \n",
    "    char_count = password.count(policy_char)\n",
    "    \n",
    "    return char_count >= policy_min and char_count <= policy_max"
   ]
  },
  {
   "cell_type": "markdown",
   "metadata": {},
   "source": [
    "## Example"
   ]
  },
  {
   "cell_type": "code",
   "execution_count": 28,
   "metadata": {},
   "outputs": [],
   "source": [
    "with open(\"example.txt\", \"r\") as file:\n",
    "    lines = file.read().splitlines()\n",
    "    assert check_password(lines[0]) == True\n",
    "    assert check_password(lines[1]) == False\n",
    "    assert check_password(lines[2]) == True"
   ]
  },
  {
   "cell_type": "markdown",
   "metadata": {},
   "source": [
    "## Part 1"
   ]
  },
  {
   "cell_type": "code",
   "execution_count": 30,
   "metadata": {},
   "outputs": [
    {
     "name": "stdout",
     "output_type": "stream",
     "text": [
      "393 valid passwords found\n"
     ]
    }
   ],
   "source": [
    "with open(\"input.txt\", \"r\") as file:\n",
    "    lines = file.read().splitlines()\n",
    "    valid = 0\n",
    "    for line in lines:\n",
    "        if check_password(line):\n",
    "            valid += 1\n",
    "    print(\"{} valid passwords found\".format(valid))"
   ]
  },
  {
   "cell_type": "markdown",
   "metadata": {},
   "source": [
    "## Part 2"
   ]
  },
  {
   "cell_type": "code",
   "execution_count": 36,
   "metadata": {},
   "outputs": [],
   "source": [
    "def check_password_2(line):\n",
    "    # Parse the line in the file\n",
    "    # The positions a character can be inside the password\n",
    "    policy_positions = line.split(\" \")[0].split(\"-\")\n",
    "    # The char to check number of occurances of\n",
    "    policy_char = line.split(\" \")[1][:-1]\n",
    "    # The password to check\n",
    "    password = \" \".join(line.split(\" \")[2:])\n",
    "    \n",
    "    occurances = 0\n",
    "    \n",
    "    for pos in policy_positions:\n",
    "        if password[int(pos) - 1] == policy_char:\n",
    "            occurances += 1\n",
    "    \n",
    "    return occurances == 1"
   ]
  },
  {
   "cell_type": "code",
   "execution_count": 37,
   "metadata": {},
   "outputs": [],
   "source": [
    "with open(\"example.txt\", \"r\") as file:\n",
    "    lines = file.read().splitlines()\n",
    "    assert check_password_2(lines[0]) == True\n",
    "    assert check_password_2(lines[1]) == False\n",
    "    assert check_password_2(lines[2]) == False"
   ]
  },
  {
   "cell_type": "code",
   "execution_count": 38,
   "metadata": {},
   "outputs": [
    {
     "name": "stdout",
     "output_type": "stream",
     "text": [
      "690 valid passwords found\n"
     ]
    }
   ],
   "source": [
    "with open(\"input.txt\", \"r\") as file:\n",
    "    lines = file.read().splitlines()\n",
    "    valid = 0\n",
    "    for line in lines:\n",
    "        if check_password_2(line):\n",
    "            valid += 1\n",
    "    print(\"{} valid passwords found\".format(valid))"
   ]
  },
  {
   "cell_type": "code",
   "execution_count": null,
   "metadata": {},
   "outputs": [],
   "source": []
  }
 ],
 "metadata": {
  "kernelspec": {
   "display_name": "Python 3",
   "language": "python",
   "name": "python3"
  },
  "language_info": {
   "codemirror_mode": {
    "name": "ipython",
    "version": 3
   },
   "file_extension": ".py",
   "mimetype": "text/x-python",
   "name": "python",
   "nbconvert_exporter": "python",
   "pygments_lexer": "ipython3",
   "version": "3.8.2"
  }
 },
 "nbformat": 4,
 "nbformat_minor": 4
}
