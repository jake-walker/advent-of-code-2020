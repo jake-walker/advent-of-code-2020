{
 "cells": [
  {
   "cell_type": "markdown",
   "metadata": {},
   "source": [
    "# Day 15: Rambunctious Recitation\n",
    "\n",
    "[Brief](https://adventofcode.com/2020/day/15)"
   ]
  },
  {
   "cell_type": "code",
   "execution_count": 53,
   "metadata": {},
   "outputs": [],
   "source": [
    "import itertools"
   ]
  },
  {
   "cell_type": "code",
   "execution_count": 54,
   "metadata": {},
   "outputs": [],
   "source": [
    "def get_sequence(starting_numbers):\n",
    "    turns = []\n",
    "    while True:        \n",
    "        # first, start with the starting numbers\n",
    "        if len(starting_numbers) > 0:\n",
    "            turns.append(starting_numbers[0])\n",
    "            starting_numbers = starting_numbers[1:]\n",
    "        else:\n",
    "            last_spoken = turns[-1]\n",
    "            occurances = turns.count(last_spoken)\n",
    "            \n",
    "            if occurances == 1:\n",
    "                turns.append(0)\n",
    "            else:\n",
    "                last_spoken_turn = len(turns)\n",
    "                previous_spoken_turn = len(turns) - 1 - turns[:-1][::-1].index(last_spoken)\n",
    "                \n",
    "                turns.append(last_spoken_turn - previous_spoken_turn)\n",
    "        \n",
    "        yield turns[-1]"
   ]
  },
  {
   "cell_type": "markdown",
   "metadata": {},
   "source": [
    "## Examples"
   ]
  },
  {
   "cell_type": "code",
   "execution_count": 55,
   "metadata": {},
   "outputs": [
    {
     "name": "stdout",
     "output_type": "stream",
     "text": [
      "1 0\n",
      "2 3\n",
      "3 6\n",
      "4 0\n",
      "5 3\n",
      "6 3\n",
      "7 1\n",
      "8 0\n",
      "9 4\n",
      "10 0\n"
     ]
    }
   ],
   "source": [
    "example_sequence = get_sequence([0, 3, 6])\n",
    "for i in range(0, 10):\n",
    "    print(i+1, next(example_sequence))"
   ]
  },
  {
   "cell_type": "code",
   "execution_count": 56,
   "metadata": {},
   "outputs": [],
   "source": [
    "def get_nth_item(generator, index = 2019):\n",
    "    return next(itertools.islice(generator, index, None))"
   ]
  },
  {
   "cell_type": "code",
   "execution_count": 57,
   "metadata": {},
   "outputs": [],
   "source": [
    "assert get_nth_item(get_sequence([1, 3, 2])) == 1\n",
    "assert get_nth_item(get_sequence([2, 1, 3])) == 10\n",
    "assert get_nth_item(get_sequence([1, 2, 3])) == 27\n",
    "assert get_nth_item(get_sequence([2, 3, 1])) == 78\n",
    "assert get_nth_item(get_sequence([3, 2, 1])) == 438\n",
    "assert get_nth_item(get_sequence([3, 1, 2])) == 1836"
   ]
  },
  {
   "cell_type": "markdown",
   "metadata": {},
   "source": [
    "## Part 1"
   ]
  },
  {
   "cell_type": "code",
   "execution_count": 58,
   "metadata": {},
   "outputs": [
    {
     "data": {
      "text/plain": [
       "206"
      ]
     },
     "execution_count": 58,
     "metadata": {},
     "output_type": "execute_result"
    }
   ],
   "source": [
    "get_nth_item(get_sequence([7, 14, 0, 17, 11, 1, 2]))"
   ]
  },
  {
   "cell_type": "markdown",
   "metadata": {},
   "source": [
    "## Part 2"
   ]
  },
  {
   "cell_type": "code",
   "execution_count": null,
   "metadata": {},
   "outputs": [],
   "source": [
    "# Takes too long!\n",
    "assert get_nth_item(get_sequence([0, 3, 6]), 30000000 - 1) == 175594"
   ]
  },
  {
   "cell_type": "code",
   "execution_count": null,
   "metadata": {},
   "outputs": [],
   "source": [
    "assert get_nth_item(get_sequence([1, 3, 2]), 30000000 - 1) == 2578"
   ]
  },
  {
   "cell_type": "code",
   "execution_count": null,
   "metadata": {},
   "outputs": [],
   "source": [
    "assert get_nth_item(get_sequence([2, 1, 3]), 30000000 - 1) == 3544142"
   ]
  },
  {
   "cell_type": "code",
   "execution_count": null,
   "metadata": {},
   "outputs": [],
   "source": [
    "assert get_nth_item(get_sequence([1, 2, 3]), 30000000 - 1) == 261214"
   ]
  },
  {
   "cell_type": "code",
   "execution_count": null,
   "metadata": {},
   "outputs": [],
   "source": [
    "assert get_nth_item(get_sequence([2, 3, 1]), 30000000 - 1) == 6895259"
   ]
  },
  {
   "cell_type": "code",
   "execution_count": null,
   "metadata": {},
   "outputs": [],
   "source": [
    "assert get_nth_item(get_sequence([3, 2, 1]), 30000000 - 1) == 18"
   ]
  },
  {
   "cell_type": "code",
   "execution_count": null,
   "metadata": {},
   "outputs": [],
   "source": [
    "assert get_nth_item(get_sequence([3, 1, 2]), 30000000 - 1) == 362"
   ]
  }
 ],
 "metadata": {
  "kernelspec": {
   "display_name": "Python 3",
   "language": "python",
   "name": "python3"
  },
  "language_info": {
   "codemirror_mode": {
    "name": "ipython",
    "version": 3
   },
   "file_extension": ".py",
   "mimetype": "text/x-python",
   "name": "python",
   "nbconvert_exporter": "python",
   "pygments_lexer": "ipython3",
   "version": "3.8.5"
  }
 },
 "nbformat": 4,
 "nbformat_minor": 4
}
