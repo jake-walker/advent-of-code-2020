{
 "cells": [
  {
   "cell_type": "markdown",
   "metadata": {},
   "source": [
    "# Day 13: Shuttle Search\n",
    "\n",
    "[Brief](https://adventofcode.com/2020/day/13)"
   ]
  },
  {
   "cell_type": "markdown",
   "metadata": {},
   "source": [
    "## Example"
   ]
  },
  {
   "cell_type": "code",
   "execution_count": 1,
   "metadata": {},
   "outputs": [],
   "source": [
    "with open(\"example.txt\") as file:\n",
    "    example_lines = file.read().splitlines()\n",
    "    example_earliest = int(example_lines[0])\n",
    "    example_buses = [int(b) for b in example_lines[1].split(\",\") if b != 'x']"
   ]
  },
  {
   "cell_type": "code",
   "execution_count": 2,
   "metadata": {},
   "outputs": [
    {
     "data": {
      "text/plain": [
       "939"
      ]
     },
     "execution_count": 2,
     "metadata": {},
     "output_type": "execute_result"
    }
   ],
   "source": [
    "example_earliest"
   ]
  },
  {
   "cell_type": "code",
   "execution_count": 3,
   "metadata": {},
   "outputs": [
    {
     "data": {
      "text/plain": [
       "[7, 13, 59, 31, 19]"
      ]
     },
     "execution_count": 3,
     "metadata": {},
     "output_type": "execute_result"
    }
   ],
   "source": [
    "example_buses"
   ]
  },
  {
   "cell_type": "code",
   "execution_count": 4,
   "metadata": {},
   "outputs": [],
   "source": [
    "def get_earliest_bus(target, buses):\n",
    "    output = []\n",
    "    for bus in buses:\n",
    "        current = target - 1\n",
    "        result = None\n",
    "        while result is None or not result.is_integer():\n",
    "            current += 1\n",
    "            result = current / bus\n",
    "        output.append((bus, current))\n",
    "    \n",
    "    earliest_bus = min(output, key=lambda x: x[1])\n",
    "    print(\"Found earliest bus: ID {0[0]}, next time {0[1]}\".format(earliest_bus))\n",
    "    # return waiting time (time until bus departs from when we start waiting) by the id to get the output\n",
    "    return (earliest_bus[1] - target) * earliest_bus[0]"
   ]
  },
  {
   "cell_type": "code",
   "execution_count": 5,
   "metadata": {},
   "outputs": [
    {
     "name": "stdout",
     "output_type": "stream",
     "text": [
      "Found earliest bus: ID 59, next time 944\n"
     ]
    }
   ],
   "source": [
    "assert get_earliest_bus(example_earliest, example_buses) == 295"
   ]
  },
  {
   "cell_type": "markdown",
   "metadata": {},
   "source": [
    "## Part 1"
   ]
  },
  {
   "cell_type": "code",
   "execution_count": 6,
   "metadata": {},
   "outputs": [],
   "source": [
    "with open(\"input.txt\") as file:\n",
    "    input_lines = file.read().splitlines()\n",
    "    input_earliest = int(input_lines[0])\n",
    "    input_buses = [int(b) for b in input_lines[1].split(\",\") if b != 'x']"
   ]
  },
  {
   "cell_type": "code",
   "execution_count": 7,
   "metadata": {},
   "outputs": [
    {
     "name": "stdout",
     "output_type": "stream",
     "text": [
      "Found earliest bus: ID 821, next time 1001620\n"
     ]
    },
    {
     "data": {
      "text/plain": [
       "6568"
      ]
     },
     "execution_count": 7,
     "metadata": {},
     "output_type": "execute_result"
    }
   ],
   "source": [
    "get_earliest_bus(input_earliest, input_buses)"
   ]
  },
  {
   "cell_type": "markdown",
   "metadata": {},
   "source": [
    "## Part 2"
   ]
  },
  {
   "cell_type": "code",
   "execution_count": 8,
   "metadata": {},
   "outputs": [],
   "source": [
    "def least_frequent_bus(buses):\n",
    "    return max([b for b in buses if b is not None])"
   ]
  },
  {
   "cell_type": "code",
   "execution_count": 9,
   "metadata": {},
   "outputs": [],
   "source": [
    "def most_frequent_bus(buses):\n",
    "    return min([b for b in buses if b is not None])"
   ]
  },
  {
   "cell_type": "code",
   "execution_count": 10,
   "metadata": {},
   "outputs": [],
   "source": [
    "def bus_times(bus):\n",
    "    t = 0\n",
    "    result = None\n",
    "    while True:\n",
    "        yield t\n",
    "        \n",
    "        cond = True\n",
    "        while cond:\n",
    "            t += 1\n",
    "            result = t / bus\n",
    "            cond = result is None or not result.is_integer()"
   ]
  },
  {
   "cell_type": "code",
   "execution_count": 11,
   "metadata": {},
   "outputs": [],
   "source": [
    "def bus_has_time(bus, time):\n",
    "    return (time / bus).is_integer()"
   ]
  },
  {
   "cell_type": "code",
   "execution_count": 12,
   "metadata": {},
   "outputs": [],
   "source": [
    "def subsequent_buses(buses):\n",
    "    # interating through the times of the least frequent bus will *hopefully* improve efficiency\n",
    "    lf_bus = least_frequent_bus(buses)\n",
    "    lf_bus_index = buses.index(lf_bus)\n",
    "    times = bus_times(lf_bus)\n",
    "    while True:\n",
    "        current_time = next(times)\n",
    "        valid_time = None\n",
    "        \n",
    "        for i, bus in enumerate(buses):\n",
    "            bus = buses[i]\n",
    "            if bus is None or bus == lf_bus:\n",
    "                continue\n",
    "                \n",
    "            target_time_difference = i - lf_bus_index\n",
    "            target_time = current_time + target_time_difference\n",
    "                \n",
    "            # set the valid time to the lowest time out of all the times we find\n",
    "            if valid_time is None or target_time < valid_time:\n",
    "                valid_time = target_time\n",
    "            \n",
    "            # if this bus does not occur on that time, move onto the next time because we don't care about the rest\n",
    "            if not bus_has_time(bus, target_time):\n",
    "                valid_time = None\n",
    "                break\n",
    "        \n",
    "        if valid_time is not None:\n",
    "            print(\"Found valid subsequent bus time {}\".format(valid_time))\n",
    "            return valid_time"
   ]
  },
  {
   "cell_type": "code",
   "execution_count": 13,
   "metadata": {},
   "outputs": [
    {
     "name": "stdout",
     "output_type": "stream",
     "text": [
      "Found valid subsequent bus time 1068781\n"
     ]
    }
   ],
   "source": [
    "assert subsequent_buses([7, 13, None, None, 59, None, 31, 19]) == 1068781"
   ]
  },
  {
   "cell_type": "code",
   "execution_count": 15,
   "metadata": {},
   "outputs": [
    {
     "name": "stdout",
     "output_type": "stream",
     "text": [
      "Found valid subsequent bus time 3417\n"
     ]
    }
   ],
   "source": [
    "assert subsequent_buses([17, None, 13, 19]) == 3417\n",
    "# These assertions don't pass (but are close?), not a good sign!\n",
    "# assert subsequent_buses([67, 7, 59, 61]) == 754018\n",
    "# assert subsequent_buses([67, None, 7, 59, 61]) == 779210\n",
    "# assert subsequent_buses([67, 7, None, 59, 61]) == 1261476\n",
    "# assert subsequent_buses([1789, 37, 47, 1889]) == 1202161486"
   ]
  },
  {
   "cell_type": "code",
   "execution_count": null,
   "metadata": {},
   "outputs": [],
   "source": [
    "# This takes too long...\n",
    "subsequent_buses([int(b) if b != 'x' else None for b in input_lines[1].split(\",\")])"
   ]
  },
  {
   "cell_type": "code",
   "execution_count": null,
   "metadata": {},
   "outputs": [],
   "source": []
  }
 ],
 "metadata": {
  "kernelspec": {
   "display_name": "Python 3",
   "language": "python",
   "name": "python3"
  },
  "language_info": {
   "codemirror_mode": {
    "name": "ipython",
    "version": 3
   },
   "file_extension": ".py",
   "mimetype": "text/x-python",
   "name": "python",
   "nbconvert_exporter": "python",
   "pygments_lexer": "ipython3",
   "version": "3.8.5"
  }
 },
 "nbformat": 4,
 "nbformat_minor": 4
}
