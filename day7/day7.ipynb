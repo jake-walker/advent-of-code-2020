{
 "cells": [
  {
   "cell_type": "markdown",
   "metadata": {},
   "source": [
    "# Day 7: Handy Haversacks\n",
    "\n",
    "[Brief](https://adventofcode.com/2020/day/7)"
   ]
  },
  {
   "cell_type": "code",
   "execution_count": 43,
   "metadata": {},
   "outputs": [],
   "source": [
    "def parse_bag(bag_list, bag):\n",
    "    main_bag = bag.split(\" bags contain \")[0]\n",
    "    sub_bags = bag.split(\" bags contain \")[1][:-1].split(\", \")\n",
    "    \n",
    "    if main_bag not in bag_list:\n",
    "        bag_list[main_bag] = []\n",
    "    \n",
    "    for b in sub_bags:\n",
    "        if b == \"no other bags\":\n",
    "            continue\n",
    "        \n",
    "        qty = int(b.split(\" \")[0])\n",
    "        name = \" \".join(b.split(\" \")[1:-1])\n",
    "        \n",
    "        for i in range(qty):\n",
    "            bag_list[main_bag].append(name)"
   ]
  },
  {
   "cell_type": "code",
   "execution_count": 44,
   "metadata": {},
   "outputs": [
    {
     "name": "stdout",
     "output_type": "stream",
     "text": [
      "{'b': ['a', 'c', 'c'], 'c': ['a']}\n"
     ]
    }
   ],
   "source": [
    "test_bag_list = {}\n",
    "parse_bag(test_bag_list, \"b bags contain 1 a bag, 2 c bags.\")\n",
    "assert test_bag_list[\"b\"] == [\"a\", \"c\", \"c\"]\n",
    "parse_bag(test_bag_list, \"c bags contain 1 a bag.\")\n",
    "assert test_bag_list[\"c\"] == [\"a\"]\n",
    "print(test_bag_list)"
   ]
  },
  {
   "cell_type": "code",
   "execution_count": 45,
   "metadata": {},
   "outputs": [],
   "source": [
    "def reverse_lookup(bags, to_find=\"shiny gold\"):\n",
    "    eligible_bags = set()\n",
    "    \n",
    "    for bag in bags.keys():\n",
    "        if to_find in bags[bag] and bag not in eligible_bags:\n",
    "            eligible_bags.add(bag)\n",
    "            eligible_bags.update(reverse_lookup(bags, to_find=bag))\n",
    "    \n",
    "    return eligible_bags"
   ]
  },
  {
   "cell_type": "code",
   "execution_count": 46,
   "metadata": {},
   "outputs": [],
   "source": [
    "def parse_bags(lines):\n",
    "    l = {}\n",
    "    \n",
    "    for line in lines:\n",
    "        parse_bag(l, line)\n",
    "    \n",
    "    return l"
   ]
  },
  {
   "cell_type": "markdown",
   "metadata": {},
   "source": [
    "## Example"
   ]
  },
  {
   "cell_type": "code",
   "execution_count": 47,
   "metadata": {},
   "outputs": [],
   "source": [
    "with open(\"example.txt\", \"r\") as file:\n",
    "    lines = file.read().splitlines()\n",
    "\n",
    "assert len(reverse_lookup(parse_bags(lines))) == 4"
   ]
  },
  {
   "cell_type": "markdown",
   "metadata": {},
   "source": [
    "## Part 1\n",
    "\n",
    "I used a forward lookup method where I go through each bag and check which bags are contained in each of those bags. That took too long, so I had to rewrite to use reverse lookup where I look for bags which contain shiny gold bags, and then look at which bags contain those."
   ]
  },
  {
   "cell_type": "code",
   "execution_count": 48,
   "metadata": {},
   "outputs": [
    {
     "data": {
      "text/plain": [
       "332"
      ]
     },
     "execution_count": 48,
     "metadata": {},
     "output_type": "execute_result"
    }
   ],
   "source": [
    "with open(\"input.txt\", \"r\") as file:\n",
    "    lines = file.read().splitlines()\n",
    "\n",
    "len(reverse_lookup(parse_bags(lines)))"
   ]
  },
  {
   "cell_type": "markdown",
   "metadata": {},
   "source": [
    "## Part 2\n",
    "\n",
    "Hopefully the forward lookup function works for this bit???"
   ]
  },
  {
   "cell_type": "code",
   "execution_count": 49,
   "metadata": {},
   "outputs": [],
   "source": [
    "def lookup_bags(bag_list, bag):\n",
    "    bag_count = len(bag_list[bag])\n",
    "    in_bags = bag_list.get(bag, [])\n",
    "   \n",
    "    for sub_bag in bag_list[bag]:\n",
    "        bag_count += lookup_bags(bag_list, sub_bag)\n",
    "    \n",
    "    return bag_count"
   ]
  },
  {
   "cell_type": "code",
   "execution_count": 50,
   "metadata": {},
   "outputs": [],
   "source": [
    "with open(\"example.txt\", \"r\") as file:\n",
    "    lines = file.read().splitlines()\n",
    "\n",
    "example_bags = parse_bags(lines)\n",
    "assert lookup_bags(example_bags, \"shiny gold\") == 32"
   ]
  },
  {
   "cell_type": "code",
   "execution_count": 51,
   "metadata": {},
   "outputs": [],
   "source": [
    "with open(\"example2.txt\", \"r\") as file:\n",
    "    lines = file.read().splitlines()\n",
    "\n",
    "example_bags = parse_bags(lines)\n",
    "assert lookup_bags(example_bags, \"shiny gold\") == 126"
   ]
  },
  {
   "cell_type": "code",
   "execution_count": 52,
   "metadata": {},
   "outputs": [
    {
     "data": {
      "text/plain": [
       "10875"
      ]
     },
     "execution_count": 52,
     "metadata": {},
     "output_type": "execute_result"
    }
   ],
   "source": [
    "with open(\"input.txt\", \"r\") as file:\n",
    "    lines = file.read().splitlines()\n",
    "\n",
    "lookup_bags(parse_bags(lines), \"shiny gold\")"
   ]
  }
 ],
 "metadata": {
  "kernelspec": {
   "display_name": "Python 3",
   "language": "python",
   "name": "python3"
  },
  "language_info": {
   "codemirror_mode": {
    "name": "ipython",
    "version": 3
   },
   "file_extension": ".py",
   "mimetype": "text/x-python",
   "name": "python",
   "nbconvert_exporter": "python",
   "pygments_lexer": "ipython3",
   "version": "3.8.5"
  }
 },
 "nbformat": 4,
 "nbformat_minor": 4
}
